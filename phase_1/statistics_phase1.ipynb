{
 "cells": [
  {
   "cell_type": "code",
   "execution_count": 22,
   "metadata": {},
   "outputs": [],
   "source": [
    "catch_and_not_catch = {\n",
    "    1 : [1, 0],\n",
    "    2 : [1, 0],\n",
    "    3 : [5, 0],\n",
    "    4 : [3, 2],\n",
    "    5 : [3, 1],\n",
    "    6 : [1, 0],\n",
    "    7 : [3, 1],\n",
    "    8 : [2, 1],\n",
    "    9 : [5, 0],\n",
    "    10 : [6, 0],\n",
    "    11 : [4, 2],\n",
    "    12 : [2, 2],\n",
    "    13 : [6, 0],\n",
    "    14 : [3, 0],\n",
    "    15 : [0, 0],\n",
    "    16 : [2, 0] \n",
    "}\n",
    "\n",
    "traffic_and_unnecessary = {\n",
    "    1 : [1, 58],\n",
    "    2 : [1, 19],\n",
    "    3 : [5, 6],\n",
    "    4 : [5, 6],\n",
    "    5 : [4, 10],\n",
    "    6 : [1, 21],\n",
    "    7 : [4, 41],\n",
    "    8 : [3, 11],\n",
    "    9 : [5, 14],\n",
    "    10 : [6, 12],\n",
    "    11 : [6, 44],\n",
    "    12 : [4, 22],\n",
    "    13 : [6, 67],\n",
    "    14 : [3, 19],\n",
    "    15 : [0, 10],\n",
    "    16 : [2, 32] \n",
    "}"
   ]
  },
  {
   "cell_type": "code",
   "execution_count": 27,
   "metadata": {},
   "outputs": [
    {
     "data": {
      "text/plain": [
       "<matplotlib.legend.Legend at 0x23183b9bc88>"
      ]
     },
     "execution_count": 27,
     "metadata": {},
     "output_type": "execute_result"
    },
    {
     "data": {
      "image/png": "[encoded data removed]",
      "text/plain": [
       "<Figure size 432x288 with 1 Axes>"
      ]
     },
     "metadata": {
      "needs_background": "light"
     },
     "output_type": "display_data"
    }
   ],
   "source": [
    "from matplotlib import pyplot as plt\n",
    "import numpy as np\n",
    "\n",
    "labels = [i for i in range(1, 17)]\n",
    "\n",
    "catch = [catch_and_not_catch[i][0] for i in labels]\n",
    "not_catch = [catch_and_not_catch[i][1] for i in labels]\n",
    "\n",
    "x = np.arange(len(labels))  # the label locations\n",
    "width = 0.4  # the width of the bars\n",
    "\n",
    "fig, ax = plt.subplots()\n",
    "rects1 = ax.bar(x - width/2, catch, width, label='catch')\n",
    "rects2 = ax.bar(x + width/2, not_catch, width, label='miss')\n",
    "#rects3 = ax.bar(x + width/2, unnecessary, width, label='unnecessary')\n",
    "\n",
    "# Add some text for labels, title and custom x-axis tick labels, etc.\n",
    "#ax.set_ylabel('Scores')\n",
    "ax.set_title('Statistics of catch and miss')\n",
    "ax.set_xticks(x)\n",
    "ax.set_xticklabels(labels)\n",
    "ax.legend()"
   ]
  },
  {
   "cell_type": "code",
   "execution_count": 28,
   "metadata": {},
   "outputs": [
    {
     "data": {
      "text/plain": [
       "<matplotlib.legend.Legend at 0x23183c6f208>"
      ]
     },
     "execution_count": 28,
     "metadata": {},
     "output_type": "execute_result"
    },
    {
     "data": {
      "image/png": "[encoded data removed]",
      "text/plain": [
       "<Figure size 432x288 with 1 Axes>"
      ]
     },
     "metadata": {
      "needs_background": "light"
     },
     "output_type": "display_data"
    }
   ],
   "source": [
    "labels = [i for i in range(1, 17)]\n",
    "\n",
    "traffic = [traffic_and_unnecessary[i][0] for i in labels]\n",
    "unnecessary = [traffic_and_unnecessary[i][1] for i in labels]\n",
    "\n",
    "x = np.arange(len(labels))  # the label locations\n",
    "width = 0.4  # the width of the bars\n",
    "\n",
    "fig, ax = plt.subplots()\n",
    "rects1 = ax.bar(x - width/2, traffic, width, label = 'number of traffic lights')\n",
    "rects2 = ax.bar(x + width/2, unnecessary, width, label = 'irrelevant marks')\n",
    "\n",
    "# Add some text for labels, title and custom x-axis tick labels, etc.\n",
    "#ax.set_ylabel('Scores')\n",
    "ax.set_title('Statistics of number of traffic lights and irrelevant marks')\n",
    "ax.set_xticks(x)\n",
    "ax.set_xticklabels(labels)\n",
    "ax.legend()"
   ]
  },
  {
   "cell_type": "code",
   "execution_count": null,
   "metadata": {},
   "outputs": [],
   "source": []
  }
 ],
 "metadata": {
  "kernelspec": {
   "display_name": "Python 3",
   "language": "python",
   "name": "python3"
  },
  "language_info": {
   "codemirror_mode": {
    "name": "ipython",
    "version": 3
   },
   "file_extension": ".py",
   "mimetype": "text/x-python",
   "name": "python",
   "nbconvert_exporter": "python",
   "pygments_lexer": "ipython3",
   "version": "3.7.0"
  }
 },
 "nbformat": 4,
 "nbformat_minor": 4
}
